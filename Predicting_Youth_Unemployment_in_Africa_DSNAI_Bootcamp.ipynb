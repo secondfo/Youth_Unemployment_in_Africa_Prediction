{
  "cells": [
    {
      "cell_type": "markdown",
      "id": "7e55ec67-8c7f-4cd0-8348-d40e6b87acc0",
      "metadata": {
        "id": "7e55ec67-8c7f-4cd0-8348-d40e6b87acc0"
      },
      "source": [
        "[![Open in Colab](https://colab.research.google.com/assets/colab-badge.svg)](\n",
        "https://colab.research.google.com/github/lekanakin/DSN_AI_Bootcamp25/blob/main/notebooks/Predicting_Youth_Unemployment_in_Africa_DSNAI_Bootcamp.ipynb)"
      ]
    },
    {
      "cell_type": "markdown",
      "id": "b9d4921d",
      "metadata": {
        "id": "b9d4921d"
      },
      "source": [
        "\n",
        "# Building Your First Predictive Model from Scratch  \n",
        "**Predicting Youth Unemployment in Africa (with Python) by Olalekan Akinsande** — [lekanakinsande.com](https://lekanakinsande.com)\n",
        "\n",
        "This notebook guides you through:\n",
        "1. Loading and exploring a real-world themed dataset (synthetic values for demo purposes).\n",
        "2. Training a simple **Linear Regression** model.\n",
        "3. Evaluating performance.\n",
        "4. Making new predictions — including an **interactive slider UI**.\n",
        "\n",
        "> **Note:** The CSV file (`youth_unemployment_africa.csv`) is provided alongside this notebook.  \n",
        "> - If running in **Colab**, upload the CSV when prompted.  \n",
        "> - Or host it on GitHub and paste the raw URL.\n"
      ]
    },
    {
      "cell_type": "code",
      "execution_count": null,
      "id": "681136f5",
      "metadata": {
        "id": "681136f5"
      },
      "outputs": [],
      "source": [
        "#Import the Libraries\n",
        "import pandas as pd\n",
        "import matplotlib.pyplot as plt\n",
        "from sklearn.model_selection import train_test_split\n",
        "from sklearn.linear_model import LinearRegression\n",
        "from sklearn.metrics import mean_absolute_error, r2_score\n",
        "from pathlib import Path\n",
        "\n",
        "import sys\n",
        "print(sys.version)\n"
      ]
    },
    {
      "cell_type": "markdown",
      "id": "5b2f9741",
      "metadata": {
        "id": "5b2f9741"
      },
      "source": [
        "\n",
        "## 1) Load the Dataset\n",
        "Two options:\n",
        "- **Upload** the CSV from your computer (works well in Colab)\n",
        "- **Use a URL** to a raw CSV (e.g., hosted on GitHub)\n"
      ]
    },
    {
      "cell_type": "code",
      "execution_count": null,
      "id": "6ce40da1-ea23-47e2-aacb-cdebe2af7aab",
      "metadata": {
        "id": "6ce40da1-ea23-47e2-aacb-cdebe2af7aab"
      },
      "outputs": [],
      "source": [
        "# # Hosted on GitHub (Colab-friendly)\n",
        "# url = \"https://raw.githubusercontent.com/lekanakin/DSN_AI_Bootcamp25/main/youth_unemployment_africa.csv\"\n",
        "# data = pd.read_csv(url)\n",
        "\n",
        "# # Optional local fallback (for running outside Colab)\n",
        "# # local_path = Path(\"data/youth_unemployment_africa.csv\")\n",
        "# # if local_path.exists():\n",
        "# #     data = pd.read_csv(local_path)\n"
      ]
    },
    {
      "cell_type": "code",
      "execution_count": null,
      "id": "f8bea84e",
      "metadata": {
        "id": "f8bea84e"
      },
      "outputs": [],
      "source": [
        "\n",
        "# Option B: Upload in Colab\n",
        "# from google.colab import files\n",
        "# uploaded = files.upload()  # Choose youth_unemployment_africa.csv\n",
        "# import io\n",
        "# data = pd.read_csv(io.BytesIO(uploaded['youth_unemployment_africa.csv']))\n"
      ]
    },
    {
      "cell_type": "code",
      "execution_count": null,
      "id": "8e368ba6",
      "metadata": {
        "id": "8e368ba6"
      },
      "outputs": [],
      "source": [
        "\n",
        "# Option C: Use a URL or local fallback\n",
        "url = None  # paste a URL string here when hosted\n",
        "\n",
        "local_path = Path(\"youth_unemployment_africa.csv\")\n",
        "if url:\n",
        "    data = pd.read_csv(url)\n",
        "elif local_path.exists():\n",
        "    data = pd.read_csv(local_path)\n",
        "else:\n",
        "    data = pd.read_csv(\"/mnt/data/youth_unemployment_africa.csv\")\n",
        "\n",
        "data.head()\n"
      ]
    },
    {
      "cell_type": "markdown",
      "id": "0bf96e3a",
      "metadata": {
        "id": "0bf96e3a"
      },
      "source": [
        "\n",
        "## 2) Explore the Data (EDA)\n",
        "Let's understand columns, ranges, and relationships.\n"
      ]
    },
    {
      "cell_type": "code",
      "execution_count": null,
      "id": "1a99aac1",
      "metadata": {
        "id": "1a99aac1"
      },
      "outputs": [],
      "source": [
        "data.info()\n",
        "display(data.describe(include='all'))\n",
        "\n",
        "# Quick scatter: GDP vs Youth Unemployment\n",
        "plt.figure()\n",
        "plt.scatter(data['GDP_Per_Capita'], data['Youth_Unemployment_Rate'])\n",
        "plt.title('Youth Unemployment vs GDP per Capita')\n",
        "plt.xlabel('GDP per Capita (USD)')\n",
        "plt.ylabel('Youth Unemployment Rate (%)')\n",
        "plt.show()\n"
      ]
    },
    {
      "cell_type": "code",
      "execution_count": null,
      "id": "93a0153f-76b3-45fb-93eb-f9888335ec42",
      "metadata": {
        "id": "93a0153f-76b3-45fb-93eb-f9888335ec42"
      },
      "outputs": [],
      "source": [
        "# Quick scatter: Education Index vs Youth Unemployment\n",
        "plt.figure()\n",
        "plt.scatter(data['Education_Index'], data['Youth_Unemployment_Rate'])\n",
        "plt.title('Youth Unemployment vs Education Index')\n",
        "plt.xlabel('Education Index')\n",
        "plt.ylabel('Youth Unemployment Rate (%)')\n",
        "plt.show()"
      ]
    },
    {
      "cell_type": "markdown",
      "id": "a4a6f3cb",
      "metadata": {
        "id": "a4a6f3cb"
      },
      "source": [
        "\n",
        "## 3) Build the Predictive Model\n",
        "We predict `Youth_Unemployment_Rate` using:\n",
        "- `GDP_Per_Capita`\n",
        "- `Education_Index`\n",
        "- `Urban_Population_Percent`\n"
      ]
    },
    {
      "cell_type": "code",
      "execution_count": null,
      "id": "f002ac19",
      "metadata": {
        "id": "f002ac19"
      },
      "outputs": [],
      "source": [
        "#Separte the Features and Target\n",
        "X = data[['GDP_Per_Capita', 'Education_Index', 'Urban_Population_Percent']]\n",
        "y = data['Youth_Unemployment_Rate']\n",
        "\n",
        "X_train, X_test, y_train, y_test = train_test_split(\n",
        "    X, y, test_size=0.3, random_state=42\n",
        ")"
      ]
    },
    {
      "cell_type": "code",
      "execution_count": null,
      "id": "a64cc808-beb7-4a42-9faa-ea1cb5e677d3",
      "metadata": {
        "id": "a64cc808-beb7-4a42-9faa-ea1cb5e677d3"
      },
      "outputs": [],
      "source": [
        "#Fit the model\n",
        "model = LinearRegression()\n",
        "model.fit(X_train, y_train)\n",
        "y_pred = model.predict(X_test)\n",
        "\n",
        "print(\"Coefficients:\", model.coef_)\n",
        "print(\"Intercept:\", model.intercept_)"
      ]
    },
    {
      "cell_type": "markdown",
      "id": "2f5f2818-89ca-4e22-bfce-c7fc61d8cf45",
      "metadata": {
        "id": "2f5f2818-89ca-4e22-bfce-c7fc61d8cf45"
      },
      "source": [
        "### Interpreting Coefficients (Plain-English)\n",
        "\n",
        "**Intuition**\n",
        "- **Negative GDP coefficient:** as **GDP per capita** increases, **predicted unemployment decreases** (holding other features constant).\n",
        "- **Negative Education Index coefficient:** **higher education** → **lower predicted unemployment** (all else equal).\n",
        "- **Urbanization coefficient:** can be **ambiguous**; may reflect structural shifts, informal sector size, or service opportunities.\n",
        "\n",
        "**Intercept (what it means)**\n",
        "- The **intercept** is the model’s predicted value when **all features = 0**.\n",
        "- In practice, this can be **not economically meaningful** (e.g., GDP=0, Education Index=0, Urbanization=0 are outside real ranges), but it’s needed mathematically to position the regression plane.\n",
        "- Tip: If you **center** features (subtract their means), the intercept becomes the **predicted unemployment at average feature values**, which is easier to interpret.\n",
        "\n",
        "**Units intuition**\n",
        "- If the GDP coefficient is **−0.002**, that’s roughly **−2.0 percentage points per +$1,000** in GDP per capita  \n",
        "  (because −0.002 × 1000 = −2).  \n",
        "  *Always translate coefficients into meaningful units.*\n",
        "\n",
        "**One-line caveat**\n",
        "- Linear regression assumes **roughly linear relationships** and **not-too-strong collinearity**; today is about **workflow**, not perfect econometrics.\n"
      ]
    },
    {
      "cell_type": "markdown",
      "id": "0a302524",
      "metadata": {
        "id": "0a302524"
      },
      "source": [
        "\n",
        "## 4) Evaluate the Model\n",
        "- **Mean Absolute Error (MAE)**\n",
        "- **R² Score**\n"
      ]
    },
    {
      "cell_type": "code",
      "execution_count": null,
      "id": "906a12e6",
      "metadata": {
        "id": "906a12e6"
      },
      "outputs": [],
      "source": [
        "\n",
        "mae = mean_absolute_error(y_test, y_pred)\n",
        "r2 = r2_score(y_test, y_pred)\n",
        "\n",
        "print(f\"Mean Absolute Error: {mae:.2f}\")\n",
        "print(f\"R² Score: {r2:.2f}\")\n"
      ]
    },
    {
      "cell_type": "markdown",
      "id": "afbe1fcd-382c-49b3-a39a-049eaf01e42a",
      "metadata": {
        "id": "afbe1fcd-382c-49b3-a39a-049eaf01e42a"
      },
      "source": [
        "### Evaluate (MAE & R²)\n",
        "\n",
        "**Run:** Calculate **Mean Absolute Error (MAE)** and **R² (coefficient of determination)**.\n",
        "\n",
        "**Explain simply**\n",
        "- **MAE:** “On average, how far off are we?”  \n",
        "  *Example:* If **MAE = 3.0**, our predictions miss by **~3 percentage points** on average.\n",
        "- **R²:** “How much of the variation in unemployment do our features explain?”  \n",
        "  *Example:* **R² = 0.70** → the model explains **70% of the story**.\n"
      ]
    },
    {
      "cell_type": "markdown",
      "id": "638b0ada",
      "metadata": {
        "id": "638b0ada"
      },
      "source": [
        "\n",
        "### Visual Check: Predicted vs Actual\n"
      ]
    },
    {
      "cell_type": "code",
      "execution_count": null,
      "id": "5fe8b375",
      "metadata": {
        "id": "5fe8b375"
      },
      "outputs": [],
      "source": [
        "\n",
        "# Compute a common range for the diagonal reference line\n",
        "lo = min(np.min(y_test), np.min(y_pred))\n",
        "hi = max(np.max(y_test), np.max(y_pred))\n",
        "\n",
        "plt.figure()\n",
        "plt.scatter(y_test, y_pred)\n",
        "plt.plot([lo, hi], [lo, hi], linewidth=2)  # 45° reference line (perfect predictions)\n",
        "plt.title('Predicted vs Actual Youth Unemployment Rate')\n",
        "plt.xlabel('Actual (%)')\n",
        "plt.ylabel('Predicted (%)')\n",
        "plt.axis('equal')  # optional: makes the diagonal truly 45° on-screen\n",
        "plt.show()\n",
        "\n"
      ]
    },
    {
      "cell_type": "markdown",
      "id": "2ca1c842",
      "metadata": {
        "id": "2ca1c842"
      },
      "source": [
        "\n",
        "## 5) Make a New Prediction (Manual)\n",
        "Try a hypothetical country profile.\n"
      ]
    },
    {
      "cell_type": "code",
      "execution_count": null,
      "id": "e05a606f",
      "metadata": {
        "id": "e05a606f"
      },
      "outputs": [],
      "source": [
        "\n",
        "sample = [[2500, 0.58, 45.0]]  # [GDP_Per_Capita, Education_Index, Urban_Population_Percent]\n",
        "pred = model.predict(sample)[0]\n",
        "print(f\"Predicted Youth Unemployment Rate: {pred:.2f}%\")\n"
      ]
    },
    {
      "cell_type": "markdown",
      "id": "d63fb056",
      "metadata": {
        "id": "d63fb056"
      },
      "source": [
        "\n",
        "## 5b) Interactive Prediction UI\n",
        "\n",
        "Use the sliders to simulate a country profile and get a predicted **Youth Unemployment Rate (%)**.\n",
        "\n",
        "> If you're running in **Google Colab**, the widgets work out-of-the-box.  \n",
        "> In plain Jupyter, ensure `ipywidgets` is installed and enabled.\n"
      ]
    },
    {
      "cell_type": "code",
      "execution_count": 19,
      "id": "75e3db54",
      "metadata": {
        "id": "75e3db54",
        "outputId": "9c854bfe-df4e-4db2-e249-792de8d11fc4",
        "colab": {
          "base_uri": "https://localhost:8080/",
          "height": 195,
          "referenced_widgets": [
            "fe9dc76085284a008d7dd8689ac7264c",
            "c7d0ab7faf2c47558d030e8f2779ca2a",
            "72e77c4d7a4c4deda67de7ef19bdea56",
            "b8e960fca25d44e0b8b177b1bcb7fba8",
            "7a81f12fda9d4f63bd50631f0688f5e1",
            "38168cb0e04049b7a3481e0053b4d119",
            "8afca4b3a0de4b8dae7457f16afd3ee8",
            "6c44ab2d07c346e6be8a7b9244f51b3e",
            "fe823dfa052547268d474ca2b9c0da65",
            "0f3013fd948a43a1baf2595ccb0b9a73",
            "1e89998c08114b379703e6788696b5f0",
            "639f93e314de417aaab084ab6a9d1461",
            "b404e5cc06434e3487caf3b6f02bd391",
            "25d9c549ad7844dabb377c1de449e338",
            "dbdacc76481b4fd4b6745746ab346910",
            "7a43206449b6450fb12ad32636227383",
            "5deb67ad69cc4270ab26e9964d726088",
            "b96ab682c50246849f294673105e58d4",
            "942ba4b681e749dd985186373008c7fa",
            "fc6601262f474fb980e3b16111272180",
            "f5c2c9ef0d554af79ece22595ce4d468",
            "1b63b7feae3d46738c0e569affb92aa4",
            "d25b9c27c2d648c0981447203f90fe13",
            "01517c9b69da4791913714b2c03aae3e"
          ]
        }
      },
      "outputs": [
        {
          "output_type": "display_data",
          "data": {
            "text/plain": [
              "VBox(children=(Dropdown(description='Country', layout=Layout(width='95%'), options=('-- Select Country --', 'A…"
            ],
            "application/vnd.jupyter.widget-view+json": {
              "version_major": 2,
              "version_minor": 0,
              "model_id": "fe9dc76085284a008d7dd8689ac7264c"
            }
          },
          "metadata": {}
        }
      ],
      "source": [
        "\n",
        "from ipywidgets import FloatSlider, VBox, HBox, Button, Output, Layout, Dropdown, Label\n",
        "import ipywidgets as widgets\n",
        "import numpy as np\n",
        "import pandas as pd\n",
        "import matplotlib.pyplot as plt\n",
        "\n",
        "# Ensure 'data' exists (loaded earlier). Create a lookup for country -> feature values.\n",
        "try:\n",
        "    _ = data[['Country','GDP_Per_Capita','Education_Index','Urban_Population_Percent']]\n",
        "except Exception as e:\n",
        "    raise RuntimeError(\"Dataset 'data' not found. Please run the loading cells above first.\") from e\n",
        "\n",
        "# If multiple rows per country exist, take the latest or mean; here we take the mean for robustness.\n",
        "country_lookup = (\n",
        "    data.groupby('Country')[['GDP_Per_Capita','Education_Index','Urban_Population_Percent']]\n",
        "    .mean()\n",
        "    .round({'GDP_Per_Capita':2,'Education_Index':3,'Urban_Population_Percent':1})\n",
        "    .to_dict('index')\n",
        ")\n",
        "\n",
        "# Fallback retrain if model/X_train are missing- quick retrain\n",
        "try:\n",
        "    model\n",
        "    X_train\n",
        "except NameError:\n",
        "    from sklearn.model_selection import train_test_split\n",
        "    from sklearn.linear_model import LinearRegression\n",
        "    X = data[['GDP_Per_Capita', 'Education_Index', 'Urban_Population_Percent']]\n",
        "    y = data['Youth_Unemployment_Rate']\n",
        "    X_train, X_test, y_train, y_test = train_test_split(X, y, test_size=0.3, random_state=42)\n",
        "    model = LinearRegression().fit(X_train, y_train)\n",
        "\n",
        "# Defaults\n",
        "DEFAULTS = dict(gdp=2500.0, edu=0.58, urban=45.0)\n",
        "\n",
        "# Controls\n",
        "country_dd = Dropdown(\n",
        "    options=['-- Select Country --'] + sorted(country_lookup.keys()),\n",
        "    value='-- Select Country --',\n",
        "    description='Country',\n",
        "    layout=Layout(width='95%')\n",
        ")\n",
        "\n",
        "gdp_slider = FloatSlider(\n",
        "    value=DEFAULTS['gdp'], min=500.0, max=10000.0, step=50.0,\n",
        "    description='GDP/Capita ($)', continuous_update=False, readout_format='.0f',\n",
        "    layout=Layout(width='95%')\n",
        ")\n",
        "\n",
        "edu_slider = FloatSlider(\n",
        "    value=DEFAULTS['edu'], min=0.40, max=0.85, step=0.01,\n",
        "    description='Education Idx', continuous_update=False, readout_format='.2f',\n",
        "    layout=Layout(width='95%')\n",
        ")\n",
        "\n",
        "urban_slider = FloatSlider(\n",
        "    value=DEFAULTS['urban'], min=10.0, max=90.0, step=1.0,\n",
        "    description='Urban (%)', continuous_update=False, readout_format='.0f',\n",
        "    layout=Layout(width='95%')\n",
        ")\n",
        "\n",
        "predict_btn = Button(description='Predict Youth Unemployment (%)', button_style='primary', layout=Layout(width='47%'))\n",
        "reset_btn = Button(description='Reset', layout=Layout(width='47%'))\n",
        "buttons_row = HBox([predict_btn, reset_btn], layout=Layout(width='95%', justify_content='space-between'))\n",
        "\n",
        "out = Output(layout=Layout(border='1px solid #ddd', padding='8px', width='95%'))\n",
        "\n",
        "def plot_meter(pred_value, ymin=0, ymax=50):\n",
        "    \"\"\"Simple meter-style visualization: a horizontal axis with a marker at the prediction.\"\"\"\n",
        "    plt.figure()\n",
        "    plt.axhline(0)\n",
        "    plt.xlim(ymin, ymax)\n",
        "    plt.ylim(-1, 1)\n",
        "    plt.xticks(range(ymin, ymax+1, 5))\n",
        "    plt.axvline(pred_value)\n",
        "    plt.title('Predicted Youth Unemployment Rate (Meter)')\n",
        "    plt.xlabel('Rate (%)')\n",
        "    plt.yticks([])\n",
        "    plt.show()\n",
        "\n",
        "def on_predict_clicked(b):\n",
        "    with out:\n",
        "        out.clear_output()\n",
        "        sample = [[gdp_slider.value, edu_slider.value, urban_slider.value]]\n",
        "        pred = model.predict(sample)[0]\n",
        "        print(f\"Predicted Youth Unemployment Rate: {pred:.2f}%\")\n",
        "        try:\n",
        "            train_mean = float(pd.Series(model.predict(X_train)).mean())\n",
        "            print(f\"(Context) Avg predicted (train set): {train_mean:.2f}%\")\n",
        "        except Exception:\n",
        "            pass\n",
        "        plot_meter(pred_value=float(pred), ymin=0, ymax=50)\n",
        "\n",
        "def on_reset_clicked(b):\n",
        "    country_dd.value = '-- Select Country --'\n",
        "    gdp_slider.value = DEFAULTS['gdp']\n",
        "    edu_slider.value = DEFAULTS['edu']\n",
        "    urban_slider.value = DEFAULTS['urban']\n",
        "    with out:\n",
        "        out.clear_output()\n",
        "        print(\"Controls reset to defaults.\")\n",
        "\n",
        "def on_country_change(change):\n",
        "    if change['name'] == 'value' and change['new'] != '-- Select Country --':\n",
        "        vals = country_lookup.get(change['new'])\n",
        "        if vals:\n",
        "            gdp_slider.value = float(vals['GDP_Per_Capita'])\n",
        "            edu_slider.value = float(vals['Education_Index'])\n",
        "            urban_slider.value = float(vals['Urban_Population_Percent'])\n",
        "\n",
        "country_dd.observe(on_country_change, names='value')\n",
        "predict_btn.on_click(on_predict_clicked)\n",
        "reset_btn.on_click(on_reset_clicked)\n",
        "\n",
        "VBox([country_dd, gdp_slider, edu_slider, urban_slider, buttons_row, out])\n"
      ]
    },
    {
      "cell_type": "markdown",
      "id": "32dfaf2a",
      "metadata": {
        "id": "32dfaf2a"
      },
      "source": [
        "\n",
        "## 6) Reflection & Next Steps\n",
        "- Add more features: internet penetration, access to finance, sectoral shares.\n",
        "- Try new algorithms: Decision Trees, Random Forests.\n",
        "- Perform cross-validation and hyperparameter tuning.\n",
        "- Share insights with policymakers and communities.\n"
      ]
    },
    {
      "cell_type": "markdown",
      "id": "8fab9fbf-50d4-45da-ba6a-64d9cd110e98",
      "metadata": {
        "id": "8fab9fbf-50d4-45da-ba6a-64d9cd110e98"
      },
      "source": [
        "## Thank You"
      ]
    },
    {
      "cell_type": "code",
      "execution_count": null,
      "id": "baaea6c3-0958-4587-a455-4b0dc7989fde",
      "metadata": {
        "id": "baaea6c3-0958-4587-a455-4b0dc7989fde"
      },
      "outputs": [],
      "source": []
    }
  ],
  "metadata": {
    "kernelspec": {
      "display_name": "Python [conda env:base] *",
      "language": "python",
      "name": "conda-base-py"
    },
    "language_info": {
      "codemirror_mode": {
        "name": "ipython",
        "version": 3
      },
      "file_extension": ".py",
      "mimetype": "text/x-python",
      "name": "python",
      "nbconvert_exporter": "python",
      "pygments_lexer": "ipython3",
      "version": "3.13.5"
    },
    "colab": {
      "provenance": []
    },
    "widgets": {
      "application/vnd.jupyter.widget-state+json": {
        "fe9dc76085284a008d7dd8689ac7264c": {
          "model_module": "@jupyter-widgets/controls",
          "model_name": "VBoxModel",
          "model_module_version": "1.5.0",
          "state": {
            "_dom_classes": [],
            "_model_module": "@jupyter-widgets/controls",
            "_model_module_version": "1.5.0",
            "_model_name": "VBoxModel",
            "_view_count": null,
            "_view_module": "@jupyter-widgets/controls",
            "_view_module_version": "1.5.0",
            "_view_name": "VBoxView",
            "box_style": "",
            "children": [
              "IPY_MODEL_c7d0ab7faf2c47558d030e8f2779ca2a",
              "IPY_MODEL_72e77c4d7a4c4deda67de7ef19bdea56",
              "IPY_MODEL_b8e960fca25d44e0b8b177b1bcb7fba8",
              "IPY_MODEL_7a81f12fda9d4f63bd50631f0688f5e1",
              "IPY_MODEL_38168cb0e04049b7a3481e0053b4d119",
              "IPY_MODEL_8afca4b3a0de4b8dae7457f16afd3ee8"
            ],
            "layout": "IPY_MODEL_6c44ab2d07c346e6be8a7b9244f51b3e"
          }
        },
        "c7d0ab7faf2c47558d030e8f2779ca2a": {
          "model_module": "@jupyter-widgets/controls",
          "model_name": "DropdownModel",
          "model_module_version": "1.5.0",
          "state": {
            "_dom_classes": [],
            "_model_module": "@jupyter-widgets/controls",
            "_model_module_version": "1.5.0",
            "_model_name": "DropdownModel",
            "_options_labels": [
              "-- Select Country --",
              "Algeria",
              "Angola",
              "Benin",
              "Botswana",
              "Burkina Faso",
              "Cameroon",
              "Côte d'Ivoire",
              "DR Congo",
              "Djibouti",
              "Egypt",
              "Eritrea",
              "Eswatini",
              "Ethiopia",
              "Gambia",
              "Ghana",
              "Guinea",
              "Kenya",
              "Lesotho",
              "Liberia",
              "Malawi",
              "Mali",
              "Mauritius",
              "Morocco",
              "Mozambique",
              "Namibia",
              "Niger",
              "Nigeria",
              "Rwanda",
              "Senegal",
              "Seychelles",
              "Sierra Leone",
              "Somalia",
              "South Africa",
              "Sudan",
              "Tanzania",
              "Togo",
              "Tunisia",
              "Uganda",
              "Zambia",
              "Zimbabwe"
            ],
            "_view_count": null,
            "_view_module": "@jupyter-widgets/controls",
            "_view_module_version": "1.5.0",
            "_view_name": "DropdownView",
            "description": "Country",
            "description_tooltip": null,
            "disabled": false,
            "index": 0,
            "layout": "IPY_MODEL_fe823dfa052547268d474ca2b9c0da65",
            "style": "IPY_MODEL_0f3013fd948a43a1baf2595ccb0b9a73"
          }
        },
        "72e77c4d7a4c4deda67de7ef19bdea56": {
          "model_module": "@jupyter-widgets/controls",
          "model_name": "FloatSliderModel",
          "model_module_version": "1.5.0",
          "state": {
            "_dom_classes": [],
            "_model_module": "@jupyter-widgets/controls",
            "_model_module_version": "1.5.0",
            "_model_name": "FloatSliderModel",
            "_view_count": null,
            "_view_module": "@jupyter-widgets/controls",
            "_view_module_version": "1.5.0",
            "_view_name": "FloatSliderView",
            "continuous_update": false,
            "description": "GDP/Capita ($)",
            "description_tooltip": null,
            "disabled": false,
            "layout": "IPY_MODEL_1e89998c08114b379703e6788696b5f0",
            "max": 10000,
            "min": 500,
            "orientation": "horizontal",
            "readout": true,
            "readout_format": ".0f",
            "step": 50,
            "style": "IPY_MODEL_639f93e314de417aaab084ab6a9d1461",
            "value": 2500
          }
        },
        "b8e960fca25d44e0b8b177b1bcb7fba8": {
          "model_module": "@jupyter-widgets/controls",
          "model_name": "FloatSliderModel",
          "model_module_version": "1.5.0",
          "state": {
            "_dom_classes": [],
            "_model_module": "@jupyter-widgets/controls",
            "_model_module_version": "1.5.0",
            "_model_name": "FloatSliderModel",
            "_view_count": null,
            "_view_module": "@jupyter-widgets/controls",
            "_view_module_version": "1.5.0",
            "_view_name": "FloatSliderView",
            "continuous_update": false,
            "description": "Education Idx",
            "description_tooltip": null,
            "disabled": false,
            "layout": "IPY_MODEL_b404e5cc06434e3487caf3b6f02bd391",
            "max": 0.85,
            "min": 0.4,
            "orientation": "horizontal",
            "readout": true,
            "readout_format": ".2f",
            "step": 0.01,
            "style": "IPY_MODEL_25d9c549ad7844dabb377c1de449e338",
            "value": 0.58
          }
        },
        "7a81f12fda9d4f63bd50631f0688f5e1": {
          "model_module": "@jupyter-widgets/controls",
          "model_name": "FloatSliderModel",
          "model_module_version": "1.5.0",
          "state": {
            "_dom_classes": [],
            "_model_module": "@jupyter-widgets/controls",
            "_model_module_version": "1.5.0",
            "_model_name": "FloatSliderModel",
            "_view_count": null,
            "_view_module": "@jupyter-widgets/controls",
            "_view_module_version": "1.5.0",
            "_view_name": "FloatSliderView",
            "continuous_update": false,
            "description": "Urban (%)",
            "description_tooltip": null,
            "disabled": false,
            "layout": "IPY_MODEL_dbdacc76481b4fd4b6745746ab346910",
            "max": 90,
            "min": 10,
            "orientation": "horizontal",
            "readout": true,
            "readout_format": ".0f",
            "step": 1,
            "style": "IPY_MODEL_7a43206449b6450fb12ad32636227383",
            "value": 45
          }
        },
        "38168cb0e04049b7a3481e0053b4d119": {
          "model_module": "@jupyter-widgets/controls",
          "model_name": "HBoxModel",
          "model_module_version": "1.5.0",
          "state": {
            "_dom_classes": [],
            "_model_module": "@jupyter-widgets/controls",
            "_model_module_version": "1.5.0",
            "_model_name": "HBoxModel",
            "_view_count": null,
            "_view_module": "@jupyter-widgets/controls",
            "_view_module_version": "1.5.0",
            "_view_name": "HBoxView",
            "box_style": "",
            "children": [
              "IPY_MODEL_5deb67ad69cc4270ab26e9964d726088",
              "IPY_MODEL_b96ab682c50246849f294673105e58d4"
            ],
            "layout": "IPY_MODEL_942ba4b681e749dd985186373008c7fa"
          }
        },
        "8afca4b3a0de4b8dae7457f16afd3ee8": {
          "model_module": "@jupyter-widgets/output",
          "model_name": "OutputModel",
          "model_module_version": "1.0.0",
          "state": {
            "_dom_classes": [],
            "_model_module": "@jupyter-widgets/output",
            "_model_module_version": "1.0.0",
            "_model_name": "OutputModel",
            "_view_count": null,
            "_view_module": "@jupyter-widgets/output",
            "_view_module_version": "1.0.0",
            "_view_name": "OutputView",
            "layout": "IPY_MODEL_01517c9b69da4791913714b2c03aae3e",
            "msg_id": "",
            "outputs": []
          }
        },
        "6c44ab2d07c346e6be8a7b9244f51b3e": {
          "model_module": "@jupyter-widgets/base",
          "model_name": "LayoutModel",
          "model_module_version": "1.2.0",
          "state": {
            "_model_module": "@jupyter-widgets/base",
            "_model_module_version": "1.2.0",
            "_model_name": "LayoutModel",
            "_view_count": null,
            "_view_module": "@jupyter-widgets/base",
            "_view_module_version": "1.2.0",
            "_view_name": "LayoutView",
            "align_content": null,
            "align_items": null,
            "align_self": null,
            "border": null,
            "bottom": null,
            "display": null,
            "flex": null,
            "flex_flow": null,
            "grid_area": null,
            "grid_auto_columns": null,
            "grid_auto_flow": null,
            "grid_auto_rows": null,
            "grid_column": null,
            "grid_gap": null,
            "grid_row": null,
            "grid_template_areas": null,
            "grid_template_columns": null,
            "grid_template_rows": null,
            "height": null,
            "justify_content": null,
            "justify_items": null,
            "left": null,
            "margin": null,
            "max_height": null,
            "max_width": null,
            "min_height": null,
            "min_width": null,
            "object_fit": null,
            "object_position": null,
            "order": null,
            "overflow": null,
            "overflow_x": null,
            "overflow_y": null,
            "padding": null,
            "right": null,
            "top": null,
            "visibility": null,
            "width": null
          }
        },
        "fe823dfa052547268d474ca2b9c0da65": {
          "model_module": "@jupyter-widgets/base",
          "model_name": "LayoutModel",
          "model_module_version": "1.2.0",
          "state": {
            "_model_module": "@jupyter-widgets/base",
            "_model_module_version": "1.2.0",
            "_model_name": "LayoutModel",
            "_view_count": null,
            "_view_module": "@jupyter-widgets/base",
            "_view_module_version": "1.2.0",
            "_view_name": "LayoutView",
            "align_content": null,
            "align_items": null,
            "align_self": null,
            "border": null,
            "bottom": null,
            "display": null,
            "flex": null,
            "flex_flow": null,
            "grid_area": null,
            "grid_auto_columns": null,
            "grid_auto_flow": null,
            "grid_auto_rows": null,
            "grid_column": null,
            "grid_gap": null,
            "grid_row": null,
            "grid_template_areas": null,
            "grid_template_columns": null,
            "grid_template_rows": null,
            "height": null,
            "justify_content": null,
            "justify_items": null,
            "left": null,
            "margin": null,
            "max_height": null,
            "max_width": null,
            "min_height": null,
            "min_width": null,
            "object_fit": null,
            "object_position": null,
            "order": null,
            "overflow": null,
            "overflow_x": null,
            "overflow_y": null,
            "padding": null,
            "right": null,
            "top": null,
            "visibility": null,
            "width": "95%"
          }
        },
        "0f3013fd948a43a1baf2595ccb0b9a73": {
          "model_module": "@jupyter-widgets/controls",
          "model_name": "DescriptionStyleModel",
          "model_module_version": "1.5.0",
          "state": {
            "_model_module": "@jupyter-widgets/controls",
            "_model_module_version": "1.5.0",
            "_model_name": "DescriptionStyleModel",
            "_view_count": null,
            "_view_module": "@jupyter-widgets/base",
            "_view_module_version": "1.2.0",
            "_view_name": "StyleView",
            "description_width": ""
          }
        },
        "1e89998c08114b379703e6788696b5f0": {
          "model_module": "@jupyter-widgets/base",
          "model_name": "LayoutModel",
          "model_module_version": "1.2.0",
          "state": {
            "_model_module": "@jupyter-widgets/base",
            "_model_module_version": "1.2.0",
            "_model_name": "LayoutModel",
            "_view_count": null,
            "_view_module": "@jupyter-widgets/base",
            "_view_module_version": "1.2.0",
            "_view_name": "LayoutView",
            "align_content": null,
            "align_items": null,
            "align_self": null,
            "border": null,
            "bottom": null,
            "display": null,
            "flex": null,
            "flex_flow": null,
            "grid_area": null,
            "grid_auto_columns": null,
            "grid_auto_flow": null,
            "grid_auto_rows": null,
            "grid_column": null,
            "grid_gap": null,
            "grid_row": null,
            "grid_template_areas": null,
            "grid_template_columns": null,
            "grid_template_rows": null,
            "height": null,
            "justify_content": null,
            "justify_items": null,
            "left": null,
            "margin": null,
            "max_height": null,
            "max_width": null,
            "min_height": null,
            "min_width": null,
            "object_fit": null,
            "object_position": null,
            "order": null,
            "overflow": null,
            "overflow_x": null,
            "overflow_y": null,
            "padding": null,
            "right": null,
            "top": null,
            "visibility": null,
            "width": "95%"
          }
        },
        "639f93e314de417aaab084ab6a9d1461": {
          "model_module": "@jupyter-widgets/controls",
          "model_name": "SliderStyleModel",
          "model_module_version": "1.5.0",
          "state": {
            "_model_module": "@jupyter-widgets/controls",
            "_model_module_version": "1.5.0",
            "_model_name": "SliderStyleModel",
            "_view_count": null,
            "_view_module": "@jupyter-widgets/base",
            "_view_module_version": "1.2.0",
            "_view_name": "StyleView",
            "description_width": "",
            "handle_color": null
          }
        },
        "b404e5cc06434e3487caf3b6f02bd391": {
          "model_module": "@jupyter-widgets/base",
          "model_name": "LayoutModel",
          "model_module_version": "1.2.0",
          "state": {
            "_model_module": "@jupyter-widgets/base",
            "_model_module_version": "1.2.0",
            "_model_name": "LayoutModel",
            "_view_count": null,
            "_view_module": "@jupyter-widgets/base",
            "_view_module_version": "1.2.0",
            "_view_name": "LayoutView",
            "align_content": null,
            "align_items": null,
            "align_self": null,
            "border": null,
            "bottom": null,
            "display": null,
            "flex": null,
            "flex_flow": null,
            "grid_area": null,
            "grid_auto_columns": null,
            "grid_auto_flow": null,
            "grid_auto_rows": null,
            "grid_column": null,
            "grid_gap": null,
            "grid_row": null,
            "grid_template_areas": null,
            "grid_template_columns": null,
            "grid_template_rows": null,
            "height": null,
            "justify_content": null,
            "justify_items": null,
            "left": null,
            "margin": null,
            "max_height": null,
            "max_width": null,
            "min_height": null,
            "min_width": null,
            "object_fit": null,
            "object_position": null,
            "order": null,
            "overflow": null,
            "overflow_x": null,
            "overflow_y": null,
            "padding": null,
            "right": null,
            "top": null,
            "visibility": null,
            "width": "95%"
          }
        },
        "25d9c549ad7844dabb377c1de449e338": {
          "model_module": "@jupyter-widgets/controls",
          "model_name": "SliderStyleModel",
          "model_module_version": "1.5.0",
          "state": {
            "_model_module": "@jupyter-widgets/controls",
            "_model_module_version": "1.5.0",
            "_model_name": "SliderStyleModel",
            "_view_count": null,
            "_view_module": "@jupyter-widgets/base",
            "_view_module_version": "1.2.0",
            "_view_name": "StyleView",
            "description_width": "",
            "handle_color": null
          }
        },
        "dbdacc76481b4fd4b6745746ab346910": {
          "model_module": "@jupyter-widgets/base",
          "model_name": "LayoutModel",
          "model_module_version": "1.2.0",
          "state": {
            "_model_module": "@jupyter-widgets/base",
            "_model_module_version": "1.2.0",
            "_model_name": "LayoutModel",
            "_view_count": null,
            "_view_module": "@jupyter-widgets/base",
            "_view_module_version": "1.2.0",
            "_view_name": "LayoutView",
            "align_content": null,
            "align_items": null,
            "align_self": null,
            "border": null,
            "bottom": null,
            "display": null,
            "flex": null,
            "flex_flow": null,
            "grid_area": null,
            "grid_auto_columns": null,
            "grid_auto_flow": null,
            "grid_auto_rows": null,
            "grid_column": null,
            "grid_gap": null,
            "grid_row": null,
            "grid_template_areas": null,
            "grid_template_columns": null,
            "grid_template_rows": null,
            "height": null,
            "justify_content": null,
            "justify_items": null,
            "left": null,
            "margin": null,
            "max_height": null,
            "max_width": null,
            "min_height": null,
            "min_width": null,
            "object_fit": null,
            "object_position": null,
            "order": null,
            "overflow": null,
            "overflow_x": null,
            "overflow_y": null,
            "padding": null,
            "right": null,
            "top": null,
            "visibility": null,
            "width": "95%"
          }
        },
        "7a43206449b6450fb12ad32636227383": {
          "model_module": "@jupyter-widgets/controls",
          "model_name": "SliderStyleModel",
          "model_module_version": "1.5.0",
          "state": {
            "_model_module": "@jupyter-widgets/controls",
            "_model_module_version": "1.5.0",
            "_model_name": "SliderStyleModel",
            "_view_count": null,
            "_view_module": "@jupyter-widgets/base",
            "_view_module_version": "1.2.0",
            "_view_name": "StyleView",
            "description_width": "",
            "handle_color": null
          }
        },
        "5deb67ad69cc4270ab26e9964d726088": {
          "model_module": "@jupyter-widgets/controls",
          "model_name": "ButtonModel",
          "model_module_version": "1.5.0",
          "state": {
            "_dom_classes": [],
            "_model_module": "@jupyter-widgets/controls",
            "_model_module_version": "1.5.0",
            "_model_name": "ButtonModel",
            "_view_count": null,
            "_view_module": "@jupyter-widgets/controls",
            "_view_module_version": "1.5.0",
            "_view_name": "ButtonView",
            "button_style": "primary",
            "description": "Predict Youth Unemployment (%)",
            "disabled": false,
            "icon": "",
            "layout": "IPY_MODEL_fc6601262f474fb980e3b16111272180",
            "style": "IPY_MODEL_f5c2c9ef0d554af79ece22595ce4d468",
            "tooltip": ""
          }
        },
        "b96ab682c50246849f294673105e58d4": {
          "model_module": "@jupyter-widgets/controls",
          "model_name": "ButtonModel",
          "model_module_version": "1.5.0",
          "state": {
            "_dom_classes": [],
            "_model_module": "@jupyter-widgets/controls",
            "_model_module_version": "1.5.0",
            "_model_name": "ButtonModel",
            "_view_count": null,
            "_view_module": "@jupyter-widgets/controls",
            "_view_module_version": "1.5.0",
            "_view_name": "ButtonView",
            "button_style": "",
            "description": "Reset",
            "disabled": false,
            "icon": "",
            "layout": "IPY_MODEL_1b63b7feae3d46738c0e569affb92aa4",
            "style": "IPY_MODEL_d25b9c27c2d648c0981447203f90fe13",
            "tooltip": ""
          }
        },
        "942ba4b681e749dd985186373008c7fa": {
          "model_module": "@jupyter-widgets/base",
          "model_name": "LayoutModel",
          "model_module_version": "1.2.0",
          "state": {
            "_model_module": "@jupyter-widgets/base",
            "_model_module_version": "1.2.0",
            "_model_name": "LayoutModel",
            "_view_count": null,
            "_view_module": "@jupyter-widgets/base",
            "_view_module_version": "1.2.0",
            "_view_name": "LayoutView",
            "align_content": null,
            "align_items": null,
            "align_self": null,
            "border": null,
            "bottom": null,
            "display": null,
            "flex": null,
            "flex_flow": null,
            "grid_area": null,
            "grid_auto_columns": null,
            "grid_auto_flow": null,
            "grid_auto_rows": null,
            "grid_column": null,
            "grid_gap": null,
            "grid_row": null,
            "grid_template_areas": null,
            "grid_template_columns": null,
            "grid_template_rows": null,
            "height": null,
            "justify_content": "space-between",
            "justify_items": null,
            "left": null,
            "margin": null,
            "max_height": null,
            "max_width": null,
            "min_height": null,
            "min_width": null,
            "object_fit": null,
            "object_position": null,
            "order": null,
            "overflow": null,
            "overflow_x": null,
            "overflow_y": null,
            "padding": null,
            "right": null,
            "top": null,
            "visibility": null,
            "width": "95%"
          }
        },
        "fc6601262f474fb980e3b16111272180": {
          "model_module": "@jupyter-widgets/base",
          "model_name": "LayoutModel",
          "model_module_version": "1.2.0",
          "state": {
            "_model_module": "@jupyter-widgets/base",
            "_model_module_version": "1.2.0",
            "_model_name": "LayoutModel",
            "_view_count": null,
            "_view_module": "@jupyter-widgets/base",
            "_view_module_version": "1.2.0",
            "_view_name": "LayoutView",
            "align_content": null,
            "align_items": null,
            "align_self": null,
            "border": null,
            "bottom": null,
            "display": null,
            "flex": null,
            "flex_flow": null,
            "grid_area": null,
            "grid_auto_columns": null,
            "grid_auto_flow": null,
            "grid_auto_rows": null,
            "grid_column": null,
            "grid_gap": null,
            "grid_row": null,
            "grid_template_areas": null,
            "grid_template_columns": null,
            "grid_template_rows": null,
            "height": null,
            "justify_content": null,
            "justify_items": null,
            "left": null,
            "margin": null,
            "max_height": null,
            "max_width": null,
            "min_height": null,
            "min_width": null,
            "object_fit": null,
            "object_position": null,
            "order": null,
            "overflow": null,
            "overflow_x": null,
            "overflow_y": null,
            "padding": null,
            "right": null,
            "top": null,
            "visibility": null,
            "width": "47%"
          }
        },
        "f5c2c9ef0d554af79ece22595ce4d468": {
          "model_module": "@jupyter-widgets/controls",
          "model_name": "ButtonStyleModel",
          "model_module_version": "1.5.0",
          "state": {
            "_model_module": "@jupyter-widgets/controls",
            "_model_module_version": "1.5.0",
            "_model_name": "ButtonStyleModel",
            "_view_count": null,
            "_view_module": "@jupyter-widgets/base",
            "_view_module_version": "1.2.0",
            "_view_name": "StyleView",
            "button_color": null,
            "font_weight": ""
          }
        },
        "1b63b7feae3d46738c0e569affb92aa4": {
          "model_module": "@jupyter-widgets/base",
          "model_name": "LayoutModel",
          "model_module_version": "1.2.0",
          "state": {
            "_model_module": "@jupyter-widgets/base",
            "_model_module_version": "1.2.0",
            "_model_name": "LayoutModel",
            "_view_count": null,
            "_view_module": "@jupyter-widgets/base",
            "_view_module_version": "1.2.0",
            "_view_name": "LayoutView",
            "align_content": null,
            "align_items": null,
            "align_self": null,
            "border": null,
            "bottom": null,
            "display": null,
            "flex": null,
            "flex_flow": null,
            "grid_area": null,
            "grid_auto_columns": null,
            "grid_auto_flow": null,
            "grid_auto_rows": null,
            "grid_column": null,
            "grid_gap": null,
            "grid_row": null,
            "grid_template_areas": null,
            "grid_template_columns": null,
            "grid_template_rows": null,
            "height": null,
            "justify_content": null,
            "justify_items": null,
            "left": null,
            "margin": null,
            "max_height": null,
            "max_width": null,
            "min_height": null,
            "min_width": null,
            "object_fit": null,
            "object_position": null,
            "order": null,
            "overflow": null,
            "overflow_x": null,
            "overflow_y": null,
            "padding": null,
            "right": null,
            "top": null,
            "visibility": null,
            "width": "47%"
          }
        },
        "d25b9c27c2d648c0981447203f90fe13": {
          "model_module": "@jupyter-widgets/controls",
          "model_name": "ButtonStyleModel",
          "model_module_version": "1.5.0",
          "state": {
            "_model_module": "@jupyter-widgets/controls",
            "_model_module_version": "1.5.0",
            "_model_name": "ButtonStyleModel",
            "_view_count": null,
            "_view_module": "@jupyter-widgets/base",
            "_view_module_version": "1.2.0",
            "_view_name": "StyleView",
            "button_color": null,
            "font_weight": ""
          }
        },
        "01517c9b69da4791913714b2c03aae3e": {
          "model_module": "@jupyter-widgets/base",
          "model_name": "LayoutModel",
          "model_module_version": "1.2.0",
          "state": {
            "_model_module": "@jupyter-widgets/base",
            "_model_module_version": "1.2.0",
            "_model_name": "LayoutModel",
            "_view_count": null,
            "_view_module": "@jupyter-widgets/base",
            "_view_module_version": "1.2.0",
            "_view_name": "LayoutView",
            "align_content": null,
            "align_items": null,
            "align_self": null,
            "border": "1px solid #ddd",
            "bottom": null,
            "display": null,
            "flex": null,
            "flex_flow": null,
            "grid_area": null,
            "grid_auto_columns": null,
            "grid_auto_flow": null,
            "grid_auto_rows": null,
            "grid_column": null,
            "grid_gap": null,
            "grid_row": null,
            "grid_template_areas": null,
            "grid_template_columns": null,
            "grid_template_rows": null,
            "height": null,
            "justify_content": null,
            "justify_items": null,
            "left": null,
            "margin": null,
            "max_height": null,
            "max_width": null,
            "min_height": null,
            "min_width": null,
            "object_fit": null,
            "object_position": null,
            "order": null,
            "overflow": null,
            "overflow_x": null,
            "overflow_y": null,
            "padding": "8px",
            "right": null,
            "top": null,
            "visibility": null,
            "width": "95%"
          }
        }
      }
    }
  },
  "nbformat": 4,
  "nbformat_minor": 5
}